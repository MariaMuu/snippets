{
  "nbformat": 4,
  "nbformat_minor": 0,
  "metadata": {
    "colab": {
      "provenance": [],
      "authorship_tag": "ABX9TyOhn3jlJbBlEAHTQtSP5Nus",
      "include_colab_link": true
    },
    "kernelspec": {
      "name": "python3",
      "display_name": "Python 3"
    },
    "language_info": {
      "name": "python"
    }
  },
  "cells": [
    {
      "cell_type": "markdown",
      "metadata": {
        "id": "view-in-github",
        "colab_type": "text"
      },
      "source": [
        "<a href=\"https://colab.research.google.com/github/MariaMuu/snippets/blob/main/openAI_prompt.ipynb\" target=\"_parent\"><img src=\"https://colab.research.google.com/assets/colab-badge.svg\" alt=\"Open In Colab\"/></a>"
      ]
    },
    {
      "cell_type": "code",
      "source": [
        "from openai import OpenAI\n",
        "client = OpenAI()"
      ],
      "metadata": {
        "id": "vmXx6QXSQQf0"
      },
      "execution_count": null,
      "outputs": []
    },
    {
      "cell_type": "code",
      "execution_count": null,
      "metadata": {
        "id": "nebqTb3oQKlP"
      },
      "outputs": [],
      "source": [
        "response = client.responses.create(\n",
        "  model=\"gpt-4.1\",\n",
        "  input=[],\n",
        "  text={\n",
        "    \"format\": {\n",
        "      \"type\": \"text\"\n",
        "    }\n",
        "  },\n",
        "  reasoning={},\n",
        "  tools=[],\n",
        "  temperature=1,\n",
        "  max_output_tokens=2048,\n",
        "  top_p=1,\n",
        "  store=True\n",
        ")"
      ]
    }
  ]
}