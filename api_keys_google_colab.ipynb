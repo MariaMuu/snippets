{
  "nbformat": 4,
  "nbformat_minor": 0,
  "metadata": {
    "colab": {
      "provenance": [],
      "authorship_tag": "ABX9TyNpSd/Oqg5maHbqPX6rrNyI",
      "include_colab_link": true
    },
    "kernelspec": {
      "name": "python3",
      "display_name": "Python 3"
    },
    "language_info": {
      "name": "python"
    }
  },
  "cells": [
    {
      "cell_type": "markdown",
      "metadata": {
        "id": "view-in-github",
        "colab_type": "text"
      },
      "source": [
        "<a href=\"https://colab.research.google.com/github/MariaMuu/snippets/blob/main/api_keys_google_colab.ipynb\" target=\"_parent\"><img src=\"https://colab.research.google.com/assets/colab-badge.svg\" alt=\"Open In Colab\"/></a>"
      ]
    },
    {
      "cell_type": "code",
      "source": [
        "!pip install langchain_openai"
      ],
      "metadata": {
        "id": "c5PhhDrs_svp",
        "collapsed": true
      },
      "execution_count": null,
      "outputs": []
    },
    {
      "cell_type": "code",
      "execution_count": null,
      "metadata": {
        "id": "55TGeZMLcch7",
        "collapsed": true
      },
      "outputs": [],
      "source": [
        "# @title Default title text\n",
        "from langchain_core.prompts import ChatPromptTemplate\n",
        "from langchain_openai import ChatOpenAI\n",
        "from google.colab import userdata\n",
        "\n",
        "import os\n",
        "\n",
        "os.environ[\"OPENAI_API_KEY\"] = userdata.get('OPENAI_API_KEY')\n",
        "llm = ChatOpenAI(temperature=1, model=\"o4-mini\")\n",
        "\n",
        "\n",
        "response = llm.invoke(\"who first discovered dark matter?\")\n",
        "print(response.content)"
      ]
    },
    {
      "cell_type": "code",
      "source": [
        "from langchain_core.prompts import ChatPromptTemplate\n",
        "from langchain_openai import ChatOpenAI\n",
        "from google.colab import userdata\n",
        "import os\n",
        "\n",
        "# Set your OpenAI API key from Google Colab's secure storage\n",
        "os.environ[\"OPENAI_API_KEY\"] = userdata.get('OPENAI_API_KEY')\n",
        "\n",
        "# Initialize the model with reasoning_effort='high' via model_kwargs\n",
        "# Remove temperature or set it to 1\n",
        "llm = ChatOpenAI(\n",
        "    model=\"o4-mini\",\n",
        "   reasoning_effort = \"high\"\n",
        ")\n",
        "\n",
        "# Directly invoke the model with a simple question\n",
        "response = llm.invoke(\"who first discovered dark matter?\")\n",
        "print(response.content)"
      ],
      "metadata": {
        "id": "nc4ll2q2kAJr"
      },
      "execution_count": null,
      "outputs": []
    }
  ]
}