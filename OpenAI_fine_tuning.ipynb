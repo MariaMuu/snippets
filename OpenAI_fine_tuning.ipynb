{
  "nbformat": 4,
  "nbformat_minor": 0,
  "metadata": {
    "colab": {
      "provenance": [],
      "authorship_tag": "ABX9TyN69pmps1mCJHySw+zAVnon",
      "include_colab_link": true
    },
    "kernelspec": {
      "name": "python3",
      "display_name": "Python 3"
    },
    "language_info": {
      "name": "python"
    }
  },
  "cells": [
    {
      "cell_type": "markdown",
      "metadata": {
        "id": "view-in-github",
        "colab_type": "text"
      },
      "source": [
        "<a href=\"https://colab.research.google.com/github/MariaMuu/snippets/blob/main/OpenAI_fine_tuning.ipynb\" target=\"_parent\"><img src=\"https://colab.research.google.com/assets/colab-badge.svg\" alt=\"Open In Colab\"/></a>"
      ]
    },
    {
      "cell_type": "markdown",
      "source": [
        "# **Preparing the data for the fine-tuning process**"
      ],
      "metadata": {
        "id": "nHO6F5kKcq0f"
      }
    },
    {
      "cell_type": "code",
      "source": [
        "!pip install OpenAI"
      ],
      "metadata": {
        "id": "JS-LnUl8ezRN"
      },
      "execution_count": null,
      "outputs": []
    },
    {
      "cell_type": "markdown",
      "source": [
        "**Converting CSV to JSONL Format**"
      ],
      "metadata": {
        "id": "OqEOI4T1cvj7"
      }
    },
    {
      "cell_type": "code",
      "execution_count": null,
      "metadata": {
        "id": "kDeHljT6cf5C"
      },
      "outputs": [],
      "source": [
        "import csv\n",
        "import json\n",
        "\n",
        "def convert_csv_to_training_format(input_csv, output_file):\n",
        "    system_message = {\n",
        "        \"role\": \"system\",\n",
        "        \"content\": \"\" #give the basic instruction that apply to every prompt\n",
        "    }\n",
        "\n",
        "    with open(input_csv, 'r', encoding='utf-8') as csvfile, \\\n",
        "         open(output_file, 'w', encoding='utf-8') as outfile:\n",
        "        reader = csv.reader(csvfile)\n",
        "        next(reader)  # Skip header\n",
        "\n",
        "        for row in reader:\n",
        "            your_dataset_here = row[0] # change this\n",
        "            extracted_json = row[1]\n",
        "\n",
        "            training_example = {\n",
        "                \"messages\": [\n",
        "                    system_message,\n",
        "                    {\"role\": \"user\", \"content\": medical_report}, # change this\n",
        "                    {\"role\": \"assistant\", \"content\": extracted_json}\n",
        "                ]\n",
        "            }\n",
        "            outfile.write(json.dumps(training_example) + '\\n')"
      ]
    },
    {
      "cell_type": "markdown",
      "source": [
        "**Creating Training and Validation Sets**"
      ],
      "metadata": {
        "id": "BHXS6FL1c9ak"
      }
    },
    {
      "cell_type": "code",
      "source": [
        "# Prepare training data\n",
        "convert_csv_to_training_format(\"medical-records.csv\", \"training_data.jsonl\") # change\n",
        "\n",
        "# Prepare validation data\n",
        "convert_csv_to_training_format(\"validation-medical-records.csv\", \"validation_data.jsonl\") # change"
      ],
      "metadata": {
        "id": "YMseEUfFdCAh"
      },
      "execution_count": null,
      "outputs": []
    },
    {
      "cell_type": "markdown",
      "source": [
        "# Setting Up and Starting the Fine-Tuning Process"
      ],
      "metadata": {
        "id": "MKR8jn6TdMbP"
      }
    },
    {
      "cell_type": "markdown",
      "source": [
        "**Initial Setup with OpenAI**"
      ],
      "metadata": {
        "id": "TQ5VN3cUdYjV"
      }
    },
    {
      "cell_type": "code",
      "source": [
        "from openai import OpenAI\n",
        "from time import sleep\n",
        "\n",
        "# Initialize OpenAI client\n",
        "client = OpenAI(api_key = your_api_key)"
      ],
      "metadata": {
        "id": "pKumQDxudbTQ"
      },
      "execution_count": null,
      "outputs": []
    },
    {
      "cell_type": "markdown",
      "source": [
        "**Step 1: Uploading Training Files**"
      ],
      "metadata": {
        "id": "otfP2ZOrddtT"
      }
    },
    {
      "cell_type": "code",
      "source": [
        "def upload_training_file(file_path):\n",
        "    \"\"\"Upload training file to OpenAI\"\"\"\n",
        "    with open(file_path, \"rb\") as file:\n",
        "        response = client.files.create(\n",
        "            file=file,\n",
        "            purpose=\"fine-tune\"\n",
        "        )\n",
        "        return response.id\n",
        "\n",
        "# Upload both training and validation files\n",
        "training_file_id = upload_training_file(\"training_data.jsonl\") # change\n",
        "validation_file_id = upload_training_file(\"validation_data.jsonl\") # change"
      ],
      "metadata": {
        "id": "KOqDburcdkxS"
      },
      "execution_count": null,
      "outputs": []
    },
    {
      "cell_type": "markdown",
      "source": [
        "**Step 2: Creating a Fine-Tuning Job**"
      ],
      "metadata": {
        "id": "ambyd2jMdghf"
      }
    },
    {
      "cell_type": "code",
      "source": [
        "def create_fine_tuning_job(training_file_id, validation_file_id=None, model=\"gpt-4o-mini-2024-07-18\"): # change model\n",
        "    \"\"\"Create a fine-tuning job\"\"\"\n",
        "    response = client.fine_tuning.jobs.create(\n",
        "        training_file=training_file_id,\n",
        "        validation_file=validation_file_id,\n",
        "        model=model\n",
        "    )\n",
        "    return response.id\n",
        "\n",
        "# Start the fine-tuning job\n",
        "job_id = create_fine_tuning_job(training_file_id, validation_file_id, model)"
      ],
      "metadata": {
        "id": "ceGz00RadlUP"
      },
      "execution_count": null,
      "outputs": []
    },
    {
      "cell_type": "markdown",
      "source": [
        "**Step 3: Monitoring Training Progress**"
      ],
      "metadata": {
        "id": "SRwYqHDLdigY"
      }
    },
    {
      "cell_type": "code",
      "source": [
        "def monitor_job(job_id):\n",
        "    \"\"\"Monitor fine-tuning job progress\"\"\"\n",
        "    while True:\n",
        "        job = client.fine_tuning.jobs.retrieve(job_id)\n",
        "        print(f\"Status: {job.status}\")\n",
        "\n",
        "        if job.status in [\"succeeded\", \"failed\"]:\n",
        "            return job\n",
        "\n",
        "        # List latest events\n",
        "        events = client.fine_tuning.jobs.list_events(\n",
        "            fine_tuning_job_id=job_id,\n",
        "            limit=5\n",
        "        )\n",
        "        for event in events.data:\n",
        "            print(f\"Event: {event.message}\")\n",
        "\n",
        "        sleep(30)  # Check every 30 seconds\n",
        "\n",
        "# Monitor the job until completion\n",
        "job = monitor_job(job_id)\n",
        "if job.status == \"succeeded\":\n",
        "    fine_tuned_model = job.fine_tuned_model\n",
        "    print(f\"Fine-tuned model ID: {fine_tuned_model}\")\n",
        "else:\n",
        "    print(\"Fine-tuning failed.\")"
      ],
      "metadata": {
        "id": "_usQO06qdlmp"
      },
      "execution_count": null,
      "outputs": []
    },
    {
      "cell_type": "markdown",
      "source": [
        "# **Testing and Using Your Fine-Tuned Model**"
      ],
      "metadata": {
        "id": "DqIIMrI5dtSY"
      }
    },
    {
      "cell_type": "markdown",
      "source": [
        "**Making Predictions with Your Model**"
      ],
      "metadata": {
        "id": "8yLWAhYldwn0"
      }
    },
    {
      "cell_type": "code",
      "source": [
        "def test_model(model_id, test_input):\n",
        "    \"\"\"Test the fine-tuned model\"\"\"\n",
        "    completion = client.chat.completions.create(\n",
        "        model=model_id,\n",
        "        messages=[\n",
        "            {\n",
        "                \"role\": \"system\",\n",
        "                \"content\": \"Extract Details from medical report\"\n",
        "            },\n",
        "            {\"role\": \"user\", \"content\": test_input}\n",
        "        ]\n",
        "    )\n",
        "    return completion.choices[0].message"
      ],
      "metadata": {
        "id": "Y7U5Ss3VdwI0"
      },
      "execution_count": null,
      "outputs": []
    },
    {
      "cell_type": "markdown",
      "source": [
        "**Let's try it with a new medical report:**"
      ],
      "metadata": {
        "id": "pNUmZOISd75O"
      }
    },
    {
      "cell_type": "code",
      "source": [
        "# Test input\n",
        "test_report = \"\"\"Marcus Wong, a 19-year-old male, presents with severe acne\n",
        "on face and upper back present for 1 year. Multiple inflammatory papules\n",
        "and nodules noted on examination. Previous trials of over-the-counter\n",
        "treatments ineffective. Started on Isotretinoin 40mg daily with monthly\n",
        "liver function monitoring.\"\"\"\n",
        "\n",
        "# Get prediction\n",
        "result = test_model(fine_tuned_model, test_report)\n",
        "\n",
        "# Parse the JSON response\n",
        "import json\n",
        "extracted_data = json.loads(result.content)\n",
        "print(json.dumps(extracted_data, indent=2))"
      ],
      "metadata": {
        "id": "ppRocHbbd-JQ"
      },
      "execution_count": null,
      "outputs": []
    }
  ]
}