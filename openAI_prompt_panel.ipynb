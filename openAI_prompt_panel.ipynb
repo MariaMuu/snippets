{
  "nbformat": 4,
  "nbformat_minor": 0,
  "metadata": {
    "colab": {
      "provenance": [],
      "authorship_tag": "ABX9TyPfOyQBmoTidf6FYfsCP3fB",
      "include_colab_link": true
    },
    "kernelspec": {
      "name": "python3",
      "display_name": "Python 3"
    },
    "language_info": {
      "name": "python"
    }
  },
  "cells": [
    {
      "cell_type": "markdown",
      "metadata": {
        "id": "view-in-github",
        "colab_type": "text"
      },
      "source": [
        "<a href=\"https://colab.research.google.com/github/MariaMuu/snippets/blob/main/openAI_prompt_panel.ipynb\" target=\"_parent\"><img src=\"https://colab.research.google.com/assets/colab-badge.svg\" alt=\"Open In Colab\"/></a>"
      ]
    },
    {
      "cell_type": "code",
      "source": [
        "from openai import OpenAI\n",
        "client = OpenAI()"
      ],
      "metadata": {
        "id": "vmXx6QXSQQf0"
      },
      "execution_count": null,
      "outputs": []
    },
    {
      "cell_type": "code",
      "execution_count": null,
      "metadata": {
        "id": "nebqTb3oQKlP"
      },
      "outputs": [],
      "source": [
        "response = client.responses.create(\n",
        "  model=\"gpt-4.1\",\n",
        "  input=[],\n",
        "  text={\n",
        "    \"format\": {\n",
        "      \"type\": \"text\"\n",
        "    }\n",
        "  },\n",
        "  reasoning={},\n",
        "  tools=[],\n",
        "  temperature=1,\n",
        "  max_output_tokens=2048,\n",
        "  top_p=1,\n",
        "  store=True\n",
        ")"
      ]
    },
    {
      "cell_type": "code",
      "source": [
        "# @title Create a prompt\n",
        "\n",
        "import google.generativeai as genai\n",
        "from google.colab import userdata\n",
        "\n",
        "api_key_name = 'GOOGLE_API_KEY' # @param {type: \"string\"}\n",
        "prompt = 'What is the velocity of an unladen swallow?' # @param {type: \"string\"}\n",
        "system_instructions = 'You have a tendency to speak in riddles.' # @param {type: \"string\"}\n",
        "model = 'gemini-2.0-flash' # @param {type: \"string\"} [\"gemini-1.0-pro\", \"gemini-1.5-pro\", \"gemini-1.5-flash\", \"gemini-2.0-flash\"]\n",
        "temperature = 0.5 # @param {type: \"slider\", min: 0, max: 2, step: 0.05}\n",
        "stop_sequence = '' # @param {type: \"string\"}\n",
        "\n",
        "if model == 'gemini-1.0-pro' and system_instructions is not None:\n",
        "  system_instructions = None\n",
        "  print('\\x1b[31m(WARNING: System instructions ignored, gemini-1.0-pro does not support system instructions)\\x1b[0m')\n",
        "\n",
        "if model == 'gemini-1.0-pro' and temperature > 1:\n",
        "  temperature = 1\n",
        "  print('\\x1b[34m(INFO: Temperature set to 1, gemini-1.0-pro does not support temperature > 1)\\x1b[0m')\n",
        "\n",
        "if system_instructions == '':\n",
        "  system_instructions = None\n",
        "\n",
        "api_key = userdata.get(api_key_name)\n",
        "genai.configure(api_key=api_key)\n",
        "model = genai.GenerativeModel(model, system_instruction=system_instructions)\n",
        "config = genai.GenerationConfig(temperature=temperature, stop_sequences=[stop_sequence])\n",
        "response = model.generate_content(contents=[prompt], generation_config=config)\n",
        "response.text"
      ],
      "metadata": {
        "id": "ckd1PtlxSsSS"
      },
      "execution_count": null,
      "outputs": []
    }
  ]
}